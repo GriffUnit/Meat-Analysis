{
 "cells": [
  {
   "cell_type": "markdown",
   "id": "c3ba506b",
   "metadata": {},
   "source": [
    "# MEAT DATA ANALYSIS\n",
    "\n",
    "\n",
    "\n",
    "\n",
    "\n",
    "\n"
   ]
  },
  {
   "cell_type": "markdown",
   "id": "dcf6005c",
   "metadata": {},
   "source": [
    "### About Dataset"
   ]
  },
  {
   "cell_type": "markdown",
   "id": "3bcdd70d",
   "metadata": {},
   "source": [
    "This dataset contains the summary of meat produced, consumed and imported as compiled by the Ministry of Food and Agriculture from 2014 to 2018. The __Meat-analysis.csv.__ data set also includes data on the population of persons within the country within the same time frame:\n",
    "\n",
    "| Field          | Description                                                                           |\n",
    "|----------------|---------------------------------------------------------------------------------------|\n",
    "|TYP |\tThe Type of meat|\n",
    "|CON|   The amount of meat consumed in tonnes|\n",
    "|Year|  The year for which the stated data is relevant|\n",
    "|PRO|\tThe amount of meat produced in tonnes|\n",
    "|IMP|\tThe amount of meat imported into the country in tonnes|\n",
    "|NP|\tThe National population|\n"
   ]
  },
  {
   "cell_type": "code",
   "execution_count": 6,
   "id": "a15501f9",
   "metadata": {},
   "outputs": [],
   "source": [
    "import pandas as pd\n",
    "import numpy as np\n",
    "import matplotlib.pyplot as plt\n",
    "%matplotlib inline\n",
    "from sklearn import preprocessing\n",
    "import warnings\n",
    "warnings.filterwarnings('ignore')"
   ]
  },
  {
   "cell_type": "markdown",
   "id": "71b2d562",
   "metadata": {},
   "source": [
    "### Load the data"
   ]
  },
  {
   "cell_type": "code",
   "execution_count": 7,
   "id": "300feab6",
   "metadata": {
    "scrolled": true
   },
   "outputs": [
    {
     "data": {
      "text/html": [
       "<div>\n",
       "<style scoped>\n",
       "    .dataframe tbody tr th:only-of-type {\n",
       "        vertical-align: middle;\n",
       "    }\n",
       "\n",
       "    .dataframe tbody tr th {\n",
       "        vertical-align: top;\n",
       "    }\n",
       "\n",
       "    .dataframe thead th {\n",
       "        text-align: right;\n",
       "    }\n",
       "</style>\n",
       "<table border=\"1\" class=\"dataframe\">\n",
       "  <thead>\n",
       "    <tr style=\"text-align: right;\">\n",
       "      <th></th>\n",
       "      <th>TYP</th>\n",
       "      <th>CON</th>\n",
       "      <th>Year</th>\n",
       "      <th>PRO</th>\n",
       "      <th>IMP</th>\n",
       "      <th>NP</th>\n",
       "    </tr>\n",
       "  </thead>\n",
       "  <tbody>\n",
       "    <tr>\n",
       "      <th>0</th>\n",
       "      <td>Poultry meat</td>\n",
       "      <td>187162</td>\n",
       "      <td>2014</td>\n",
       "      <td>54809</td>\n",
       "      <td>108967</td>\n",
       "      <td>28196358</td>\n",
       "    </tr>\n",
       "    <tr>\n",
       "      <th>1</th>\n",
       "      <td>Pork</td>\n",
       "      <td>22123</td>\n",
       "      <td>2014</td>\n",
       "      <td>22932</td>\n",
       "      <td>4689</td>\n",
       "      <td>28196358</td>\n",
       "    </tr>\n",
       "    <tr>\n",
       "      <th>2</th>\n",
       "      <td>Beaf and Veal</td>\n",
       "      <td>40185</td>\n",
       "      <td>2014</td>\n",
       "      <td>22781</td>\n",
       "      <td>27263</td>\n",
       "      <td>28196358</td>\n",
       "    </tr>\n",
       "    <tr>\n",
       "      <th>3</th>\n",
       "      <td>Sheep meat and Goat meat</td>\n",
       "      <td>38822</td>\n",
       "      <td>2014</td>\n",
       "      <td>43080</td>\n",
       "      <td>3394</td>\n",
       "      <td>28196358</td>\n",
       "    </tr>\n",
       "    <tr>\n",
       "      <th>4</th>\n",
       "      <td>Poultry meat</td>\n",
       "      <td>205056</td>\n",
       "      <td>2015</td>\n",
       "      <td>57276</td>\n",
       "      <td>121861</td>\n",
       "      <td>28870939</td>\n",
       "    </tr>\n",
       "    <tr>\n",
       "      <th>5</th>\n",
       "      <td>Pork</td>\n",
       "      <td>24239</td>\n",
       "      <td>2015</td>\n",
       "      <td>24513</td>\n",
       "      <td>6972</td>\n",
       "      <td>28870939</td>\n",
       "    </tr>\n",
       "    <tr>\n",
       "      <th>6</th>\n",
       "      <td>Beaf and Veal</td>\n",
       "      <td>44027</td>\n",
       "      <td>2015</td>\n",
       "      <td>23841</td>\n",
       "      <td>32137</td>\n",
       "      <td>28870939</td>\n",
       "    </tr>\n",
       "    <tr>\n",
       "      <th>7</th>\n",
       "      <td>Sheep meat and Goat meat</td>\n",
       "      <td>42534</td>\n",
       "      <td>2015</td>\n",
       "      <td>45121</td>\n",
       "      <td>3715</td>\n",
       "      <td>28870939</td>\n",
       "    </tr>\n",
       "    <tr>\n",
       "      <th>8</th>\n",
       "      <td>Poultry meat</td>\n",
       "      <td>191119</td>\n",
       "      <td>2016</td>\n",
       "      <td>59108</td>\n",
       "      <td>96975</td>\n",
       "      <td>29554303</td>\n",
       "    </tr>\n",
       "    <tr>\n",
       "      <th>9</th>\n",
       "      <td>Pork</td>\n",
       "      <td>22591</td>\n",
       "      <td>2016</td>\n",
       "      <td>26107</td>\n",
       "      <td>8271</td>\n",
       "      <td>29554303</td>\n",
       "    </tr>\n",
       "    <tr>\n",
       "      <th>10</th>\n",
       "      <td>Beaf and Veal</td>\n",
       "      <td>41035</td>\n",
       "      <td>2016</td>\n",
       "      <td>24961</td>\n",
       "      <td>26268</td>\n",
       "      <td>29554303</td>\n",
       "    </tr>\n",
       "    <tr>\n",
       "      <th>11</th>\n",
       "      <td>Sheep meat and Goat meat</td>\n",
       "      <td>39643</td>\n",
       "      <td>2016</td>\n",
       "      <td>47634</td>\n",
       "      <td>4521</td>\n",
       "      <td>29554303</td>\n",
       "    </tr>\n",
       "    <tr>\n",
       "      <th>12</th>\n",
       "      <td>Poultry meat</td>\n",
       "      <td>229708</td>\n",
       "      <td>2017</td>\n",
       "      <td>60291</td>\n",
       "      <td>151346</td>\n",
       "      <td>30222262</td>\n",
       "    </tr>\n",
       "    <tr>\n",
       "      <th>13</th>\n",
       "      <td>Pork</td>\n",
       "      <td>27153</td>\n",
       "      <td>2017</td>\n",
       "      <td>27412</td>\n",
       "      <td>5722</td>\n",
       "      <td>30222262</td>\n",
       "    </tr>\n",
       "    <tr>\n",
       "      <th>14</th>\n",
       "      <td>Beaf and Veal</td>\n",
       "      <td>49321</td>\n",
       "      <td>2017</td>\n",
       "      <td>26134</td>\n",
       "      <td>28955</td>\n",
       "      <td>30222262</td>\n",
       "    </tr>\n",
       "    <tr>\n",
       "      <th>15</th>\n",
       "      <td>Sheep meat and Goat meat</td>\n",
       "      <td>47647</td>\n",
       "      <td>2017</td>\n",
       "      <td>50288</td>\n",
       "      <td>3685</td>\n",
       "      <td>30222262</td>\n",
       "    </tr>\n",
       "    <tr>\n",
       "      <th>16</th>\n",
       "      <td>Poultry meat</td>\n",
       "      <td>266250</td>\n",
       "      <td>2018</td>\n",
       "      <td>61496</td>\n",
       "      <td>204754</td>\n",
       "      <td>30870641</td>\n",
       "    </tr>\n",
       "    <tr>\n",
       "      <th>17</th>\n",
       "      <td>Pork</td>\n",
       "      <td>31474</td>\n",
       "      <td>2018</td>\n",
       "      <td>28392</td>\n",
       "      <td>3082</td>\n",
       "      <td>30870641</td>\n",
       "    </tr>\n",
       "    <tr>\n",
       "      <th>18</th>\n",
       "      <td>Beaf and Veal</td>\n",
       "      <td>57166</td>\n",
       "      <td>2018</td>\n",
       "      <td>26716</td>\n",
       "      <td>30450</td>\n",
       "      <td>30870641</td>\n",
       "    </tr>\n",
       "    <tr>\n",
       "      <th>19</th>\n",
       "      <td>Sheep meat and Goat meat</td>\n",
       "      <td>55226</td>\n",
       "      <td>2018</td>\n",
       "      <td>51686</td>\n",
       "      <td>3541</td>\n",
       "      <td>30870641</td>\n",
       "    </tr>\n",
       "  </tbody>\n",
       "</table>\n",
       "</div>"
      ],
      "text/plain": [
       "                         TYP     CON  Year    PRO     IMP        NP\n",
       "0               Poultry meat  187162  2014  54809  108967  28196358\n",
       "1                       Pork   22123  2014  22932    4689  28196358\n",
       "2              Beaf and Veal   40185  2014  22781   27263  28196358\n",
       "3   Sheep meat and Goat meat   38822  2014  43080    3394  28196358\n",
       "4               Poultry meat  205056  2015  57276  121861  28870939\n",
       "5                       Pork   24239  2015  24513    6972  28870939\n",
       "6              Beaf and Veal   44027  2015  23841   32137  28870939\n",
       "7   Sheep meat and Goat meat   42534  2015  45121    3715  28870939\n",
       "8               Poultry meat  191119  2016  59108   96975  29554303\n",
       "9                       Pork   22591  2016  26107    8271  29554303\n",
       "10             Beaf and Veal   41035  2016  24961   26268  29554303\n",
       "11  Sheep meat and Goat meat   39643  2016  47634    4521  29554303\n",
       "12              Poultry meat  229708  2017  60291  151346  30222262\n",
       "13                      Pork   27153  2017  27412    5722  30222262\n",
       "14             Beaf and Veal   49321  2017  26134   28955  30222262\n",
       "15  Sheep meat and Goat meat   47647  2017  50288    3685  30222262\n",
       "16              Poultry meat  266250  2018  61496  204754  30870641\n",
       "17                      Pork   31474  2018  28392    3082  30870641\n",
       "18             Beaf and Veal   57166  2018  26716   30450  30870641\n",
       "19  Sheep meat and Goat meat   55226  2018  51686    3541  30870641"
      ]
     },
     "execution_count": 7,
     "metadata": {},
     "output_type": "execute_result"
    }
   ],
   "source": [
    "#Load data from local directory\n",
    "df = pd.read_csv('Meat-analysis.csv')\n",
    "df"
   ]
  },
  {
   "cell_type": "markdown",
   "id": "5c82ed93",
   "metadata": {},
   "source": [
    "\n",
    "The dataframe above shows the consumption, production and import totals in the coutry for various types of meat each within the years 2014 to 2018.\n",
    "\n",
    "For the purpose of our analysis, we'll simplify the data to showcase the the sum total of all meat consumption, production, imports and population for each corresponding year"
   ]
  },
  {
   "cell_type": "code",
   "execution_count": 8,
   "id": "992f6504",
   "metadata": {},
   "outputs": [
    {
     "data": {
      "image/png": "[encoded data removed]",
      "text/plain": [
       "<Figure size 640x480 with 1 Axes>"
      ]
     },
     "metadata": {},
     "output_type": "display_data"
    }
   ],
   "source": [
    "plt.scatter(df.NP, df.CON, color='purple')\n",
    "plt.show()"
   ]
  },
  {
   "cell_type": "markdown",
   "id": "f3132df6",
   "metadata": {},
   "source": [
    "\n",
    "As seen from the scatter plot above, the data is unevenly distributed, with some types of meat having much greater consumption rates than others. So I will create a summarized version of the data set to make the data much evenly distributed."
   ]
  },
  {
   "cell_type": "code",
   "execution_count": 9,
   "id": "fc2f7630",
   "metadata": {},
   "outputs": [
    {
     "data": {
      "text/html": [
       "<div>\n",
       "<style scoped>\n",
       "    .dataframe tbody tr th:only-of-type {\n",
       "        vertical-align: middle;\n",
       "    }\n",
       "\n",
       "    .dataframe tbody tr th {\n",
       "        vertical-align: top;\n",
       "    }\n",
       "\n",
       "    .dataframe thead th {\n",
       "        text-align: right;\n",
       "    }\n",
       "</style>\n",
       "<table border=\"1\" class=\"dataframe\">\n",
       "  <thead>\n",
       "    <tr style=\"text-align: right;\">\n",
       "      <th></th>\n",
       "      <th>Year</th>\n",
       "      <th>Consumption</th>\n",
       "      <th>Production</th>\n",
       "      <th>Imports</th>\n",
       "      <th>Population</th>\n",
       "    </tr>\n",
       "  </thead>\n",
       "  <tbody>\n",
       "    <tr>\n",
       "      <th>0</th>\n",
       "      <td>2014</td>\n",
       "      <td>288292</td>\n",
       "      <td>143602</td>\n",
       "      <td>144313</td>\n",
       "      <td>28196358</td>\n",
       "    </tr>\n",
       "    <tr>\n",
       "      <th>1</th>\n",
       "      <td>2015</td>\n",
       "      <td>315856</td>\n",
       "      <td>150751</td>\n",
       "      <td>164685</td>\n",
       "      <td>28870939</td>\n",
       "    </tr>\n",
       "    <tr>\n",
       "      <th>2</th>\n",
       "      <td>2016</td>\n",
       "      <td>294388</td>\n",
       "      <td>157810</td>\n",
       "      <td>136035</td>\n",
       "      <td>29554303</td>\n",
       "    </tr>\n",
       "    <tr>\n",
       "      <th>3</th>\n",
       "      <td>2017</td>\n",
       "      <td>353829</td>\n",
       "      <td>164125</td>\n",
       "      <td>189708</td>\n",
       "      <td>30222262</td>\n",
       "    </tr>\n",
       "    <tr>\n",
       "      <th>4</th>\n",
       "      <td>2018</td>\n",
       "      <td>410116</td>\n",
       "      <td>168290</td>\n",
       "      <td>241827</td>\n",
       "      <td>30870641</td>\n",
       "    </tr>\n",
       "  </tbody>\n",
       "</table>\n",
       "</div>"
      ],
      "text/plain": [
       "   Year  Consumption  Production  Imports  Population\n",
       "0  2014       288292      143602   144313    28196358\n",
       "1  2015       315856      150751   164685    28870939\n",
       "2  2016       294388      157810   136035    29554303\n",
       "3  2017       353829      164125   189708    30222262\n",
       "4  2018       410116      168290   241827    30870641"
      ]
     },
     "execution_count": 9,
     "metadata": {},
     "output_type": "execute_result"
    }
   ],
   "source": [
    "df_filtered = df.drop('TYP', axis=1)\n",
    "\n",
    "# Create a new DataFrame to store the unique values and sums\n",
    "df_sum = pd.DataFrame()\n",
    "\n",
    "for year in df_filtered['Year'].unique():\n",
    "    # Get the rows for the current year\n",
    "    df_filtered_year = df_filtered[df_filtered['Year'] == year]\n",
    "    consumption_sum = df_filtered_year['CON'].sum()\n",
    "    production_sum = df_filtered_year['PRO'].sum()\n",
    "    imports_sum = df_filtered_year['IMP'].sum()\n",
    "    population = df_filtered_year['NP'].unique()\n",
    "    df_temp = pd.DataFrame({'Year': year, 'Consumption': consumption_sum, 'Production': production_sum, 'Imports': imports_sum, 'Population': population})\n",
    "    df_sum = df_sum.append(df_temp, ignore_index=True)\n",
    "    \n",
    "df_sum"
   ]
  },
  {
   "cell_type": "markdown",
   "id": "a3a43633",
   "metadata": {},
   "source": [
    "This new dataframe now contains a summarized version of the previous dataframe.\n",
    "\n",
    "Now we'll plot some features against each other and make deductions from them."
   ]
  },
  {
   "cell_type": "code",
   "execution_count": 10,
   "id": "17ac4e27",
   "metadata": {},
   "outputs": [
    {
     "data": {
      "image/png": "[encoded data removed]",
      "text/plain": [
       "<Figure size 640x480 with 1 Axes>"
      ]
     },
     "metadata": {},
     "output_type": "display_data"
    }
   ],
   "source": [
    "#Plotting meat consumption against the national population\n",
    "plt.plot(df_sum.Population, df_sum.Consumption, color='red')\n",
    "plt.xlabel('Population')\n",
    "plt.ylabel('Consumption(in tonnes)')\n",
    "plt.show()"
   ]
  },
  {
   "cell_type": "markdown",
   "id": "06076a0f",
   "metadata": {},
   "source": [
    "\n",
    "__Generally, as the population of the country increases, the consumption of meat also rises__"
   ]
  },
  {
   "cell_type": "code",
   "execution_count": 11,
   "id": "6a18e3bf",
   "metadata": {},
   "outputs": [
    {
     "data": {
      "text/plain": [
       "Text(0, 0.5, 'Meat (in tonnes)')"
      ]
     },
     "execution_count": 11,
     "metadata": {},
     "output_type": "execute_result"
    },
    {
     "data": {
      "image/png": "[encoded data removed]",
      "text/plain": [
       "<Figure size 640x480 with 1 Axes>"
      ]
     },
     "metadata": {},
     "output_type": "display_data"
    }
   ],
   "source": [
    "#Comparing Meat production and meat consumption\n",
    "ax = df_sum.plot(kind='line', x ='Year', y='Production', color='green')\n",
    "df_sum.plot(kind='line', x ='Year', y='Consumption', color='red', ax=ax)\n",
    "plt.ylabel('Meat (in tonnes)')"
   ]
  },
  {
   "cell_type": "markdown",
   "id": "831e2625",
   "metadata": {},
   "source": [
    "AS seen from the graph above, the production of meat within the country seems to increase steadliy between 2014 to 2018, but the consumption of meat far superseds it. From 2016 to 2018 the production and consumption rates appear divergent, due to the consumption rate  far superseding the consumption rate.\n",
    "\n",
    "This goes to show that the current rate of production of meat within the country is not sustainable to meet the rising demand."
   ]
  },
  {
   "cell_type": "code",
   "execution_count": 12,
   "id": "b68e9ded",
   "metadata": {},
   "outputs": [
    {
     "data": {
      "text/plain": [
       "Text(0, 0.5, 'Meat (in tonnes)')"
      ]
     },
     "execution_count": 12,
     "metadata": {},
     "output_type": "execute_result"
    },
    {
     "data": {
      "image/png": "[encoded data removed]",
      "text/plain": [
       "<Figure size 640x480 with 1 Axes>"
      ]
     },
     "metadata": {},
     "output_type": "display_data"
    }
   ],
   "source": [
    "#Plotting Meat production against meat consumption\n",
    "ax = df_sum.plot(kind='line', x ='Year', y='Production', color='green')\n",
    "df_sum.plot(kind='line', x ='Year', y='Imports', color='blue', ax=ax)\n",
    "plt.ylabel('Meat (in tonnes)') "
   ]
  },
  {
   "cell_type": "markdown",
   "id": "3bfe4374",
   "metadata": {},
   "source": [
    "\n",
    "From the graph above it can be deduced that from 2016 to 2018, the rate of importation far superseds the rate of production, causing both graphs to appear divergent. This goes to show that the country is becoming more dependent on meat importation to meet it's rising demand.\n",
    "\n",
    "Next we would create a linear regression model that would predict the amount of meat production within the country for subsequent years"
   ]
  },
  {
   "cell_type": "markdown",
   "id": "d1ac20e7",
   "metadata": {},
   "source": [
    "### Creating the model"
   ]
  },
  {
   "cell_type": "code",
   "execution_count": 13,
   "id": "8e8196dd",
   "metadata": {},
   "outputs": [],
   "source": [
    "x = np.asarray(df_sum[['Year','Consumption','Imports','Population']])\n",
    "y = np.asarray(df_sum[['Production']])"
   ]
  },
  {
   "cell_type": "code",
   "execution_count": 14,
   "id": "4bd2e466",
   "metadata": {},
   "outputs": [
    {
     "name": "stdout",
     "output_type": "stream",
     "text": [
      "(3, 4) (3, 1)\n"
     ]
    },
    {
     "data": {
      "text/plain": [
       "array([[    2014,   288292,   144313, 28196358],\n",
       "       [    2017,   353829,   189708, 30222262]], dtype=int64)"
      ]
     },
     "execution_count": 14,
     "metadata": {},
     "output_type": "execute_result"
    }
   ],
   "source": [
    "#Categorizing the data\n",
    "from sklearn.model_selection import train_test_split\n",
    "x_train,x_val,y_train,y_val = train_test_split(x,y, test_size=0.4, random_state=4)\n",
    "print(x_train.shape, y_train.shape)"
   ]
  },
  {
   "cell_type": "code",
   "execution_count": 15,
   "id": "07070152",
   "metadata": {},
   "outputs": [],
   "source": [
    "#Data preprocessing\n",
    "from sklearn.preprocessing import PolynomialFeatures\n",
    "x_train_norm = preprocessing.StandardScaler().fit_transform(x_train)\n",
    "x_val_norm = preprocessing.StandardScaler().fit_transform(x_val)\n",
    "\n",
    "x_poly = PolynomialFeatures(degree=3).fit_transform(x_train_norm)\n",
    "x_val_poly = PolynomialFeatures(degree=3).fit_transform(x_val_norm)"
   ]
  },
  {
   "cell_type": "code",
   "execution_count": 16,
   "id": "45773bd7",
   "metadata": {},
   "outputs": [],
   "source": [
    "#Fitting the model\n",
    "from sklearn import linear_model\n",
    "meat_model = linear_model.LinearRegression().fit(x_poly,y_train)"
   ]
  },
  {
   "cell_type": "code",
   "execution_count": 21,
   "id": "af6df255",
   "metadata": {},
   "outputs": [
    {
     "name": "stdout",
     "output_type": "stream",
     "text": [
      "Variance score: 1.00\n",
      "R2-score: 0.67\n"
     ]
    }
   ],
   "source": [
    "#Data Evaluation\n",
    "from sklearn.metrics import r2_score\n",
    "y_predict = meat_model.predict(x_val_poly)\n",
    "y_predict\n",
    "\n",
    "#Explained variance score: 1 is perfect prediction\n",
    "print('Variance score: %.2f' % meat_model.score(x_val_poly, y_predict))\n",
    "print('R2-score: %.2f' %r2_score(y_val, y_predict))"
   ]
  },
  {
   "cell_type": "markdown",
   "id": "3172833d",
   "metadata": {},
   "source": [
    "This model would enable us predict future Production and Consumption rates"
   ]
  }
 ],
 "metadata": {
  "kernelspec": {
   "display_name": "Python 3 (ipykernel)",
   "language": "python",
   "name": "python3"
  },
  "language_info": {
   "codemirror_mode": {
    "name": "ipython",
    "version": 3
   },
   "file_extension": ".py",
   "mimetype": "text/x-python",
   "name": "python",
   "nbconvert_exporter": "python",
   "pygments_lexer": "ipython3",
   "version": "3.11.3"
  }
 },
 "nbformat": 4,
 "nbformat_minor": 5
}
